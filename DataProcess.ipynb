{
 "cells": [
  {
   "cell_type": "markdown",
   "metadata": {},
   "source": [
    "This dataset was found from kaggle and is a large set of simulated radar modulations by the Radar and Microwave Group. It provided and interesting opportunity to explore modeling options and performance."
   ]
  },
  {
   "cell_type": "code",
   "execution_count": 10,
   "metadata": {},
   "outputs": [],
   "source": [
    "import numpy as np\n",
    "import h5py\n",
    "import scipy.io as io\n",
    "import sklearn"
   ]
  },
  {
   "cell_type": "markdown",
   "metadata": {},
   "source": [
    "These are the libraries we will be using, primarily the sklearn for the modeling."
   ]
  },
  {
   "cell_type": "code",
   "execution_count": 8,
   "metadata": {},
   "outputs": [],
   "source": [
    "your_path = 'C:/Users/jalqa/Desktop/DS220/archive'\n",
    "classes = ['LFM','2FSK','4FSK','8FSK', 'Costas','2PSK','4PSK','8PSK','Barker','Huffman','Frank','P1','P2','P3','P4','Px','Zadoff-Chu','T1','T2','T3','T4','NM','Noise']"
   ]
  },
  {
   "cell_type": "markdown",
   "metadata": {},
   "source": [
    "The classes list will be used to classify the data based on their properties."
   ]
  },
  {
   "cell_type": "code",
   "execution_count": null,
   "metadata": {},
   "outputs": [],
   "source": [
    "with h5py.File('C:/Users/jalqa/Desktop/DS220/archive/X_train.mat') as f:\n",
    "    X_train = np.array(f['X_train'], dtype='float32').T\n",
    "with h5py.File(your_path +'/X_val.mat') as f:\n",
    "    X_val = np.array(f['X_val'], dtype='float32').T\n",
    "with h5py.File(your_path +'/X_test.mat') as f:\n",
    "    X_test = np.array(f['X_test'], dtype='float32').T"
   ]
  },
  {
   "cell_type": "markdown",
   "metadata": {},
   "source": [
    "This loads in the testing and training sets."
   ]
  },
  {
   "cell_type": "code",
   "execution_count": null,
   "metadata": {},
   "outputs": [],
   "source": [
    "Y_train = io.loadmat(your_path + 'Y_train.mat')['Y_train']\n",
    "Y_val = io.loadmat(your_path + 'Y_val.mat')['Y_val']\n",
    "Y_test = io.loadmat(your_path + 'Y_test.mat')['Y_test']\n",
    "lbl_train = io.loadmat(your_path + 'lbl_train.mat')['lbl_train']\n",
    "lbl_test = io.loadmat(your_path + 'lbl_test.mat')['lbl_test']\n",
    "lbl_val = io.loadmat(your_path + 'lbl_val.mat')['lbl_val']"
   ]
  },
  {
   "cell_type": "code",
   "execution_count": null,
   "metadata": {},
   "outputs": [],
   "source": [
    "np.random.seed(2022)\n",
    "X_train, Y_train,lbl_train = sklearn.utils.shuffle(X_train[:], Y_train[:] ,lbl_train[:],random_state=2022)\n",
    "X_val, Y_val , lbl_val = sklearn.utils.shuffle(X_val[:], Y_val[:], lbl_val[:],random_state=2022)\n",
    "X_test, Y_test , lbl_test= sklearn.utils.shuffle(X_test[:], Y_test[:],lbl_test[:] ,random_state=2022)"
   ]
  },
  {
   "cell_type": "markdown",
   "metadata": {},
   "source": [
    "Shuffling the data between trainging and testing sets randomly."
   ]
  },
  {
   "cell_type": "code",
   "execution_count": null,
   "metadata": {},
   "outputs": [],
   "source": [
    "print(\"X train shape: \", X_train.shape)\n",
    "print(\"X vak shape: \", X_val.shape)\n",
    "print(\"X test shape: \", X_test.shape)\n",
    "print(\"Y train shape: \", Y_train.shape)\n",
    "print(\"Y val shape: \", Y_val.shape)\n",
    "print(\"Y test shape: \", Y_test.shape)\n",
    "print(\"Label train shape: \", lbl_train.shape)\n",
    "print(\"Label val shape: \", lbl_val.shape)\n",
    "print(\"Label test shape: \", lbl_test.shape)"
   ]
  },
  {
   "cell_type": "code",
   "execution_count": null,
   "metadata": {},
   "outputs": [],
   "source": [
    "[classes[i] for i in range(len(Y_train[0]))if Y_train[0][i] == 1]"
   ]
  },
  {
   "cell_type": "code",
   "execution_count": null,
   "metadata": {},
   "outputs": [],
   "source": [
    "print(\"Signal 0 of the training set corresponds to a \" + [classes[i] for i in range(len(Y_train[0])) if Y_train[0][i] == 1][0] + \" modulated signal with SNR \" + str(lbl_train[0][1]))\n",
    "print(\"Signal 1 of the training set corresponds to a \" + [classes[i] for i in range(len(Y_train[1])) if Y_train[1][i] == 1][0] + \" modulated signal with SNR \" + str(lbl_train[1][1]))\n",
    "print(\"Signal 3 of the training set corresponds to a \" + [classes[i] for i in range(len(Y_train[2])) if Y_train[2][i] == 1][0] + \" modulated signal with SNR \" + str(lbl_train[2][1]))"
   ]
  },
  {
   "cell_type": "markdown",
   "metadata": {},
   "source": [
    "Below are the parameters and values for each kind of frequency\n",
    "f -> sampling frequency\n",
    "f -> carrier frequency\n",
    "PW -> pulse-width\n",
    "BW -> bandwidth\n",
    "v -> symbol rate\n",
    "M -> code length\n",
    "r -> relatively prime of M\n",
    "S -> amplitude of secondary lobes\n",
    "N -> number of segments\n",
    "PS -> phase states\n",
    "Δf -> frequency variation\n",
    "Modulation type\tParameters\tValues\n",
    "\n",
    "Common\tf\n",
    "input size\n",
    "SNR\n",
    "f\t100 MHz\n",
    "1024 samples\n",
    "-12:2:20 dB\n",
    "U(-f/4, f/4)\n",
    "\n",
    "NM\t-\t-\n",
    "\n",
    "LFM\tBW\tU(f/20, f/4)\n",
    "\n",
    "PSK\tOrder\n",
    "v\t{2, 4, 8}\n",
    "{2, 5, 10, 15, 20}\n",
    "\n",
    "Barker\tM\n",
    "v\t{5, 7, 11, 13}\n",
    "{2, 5, 10, 15, 20}\n",
    "\n",
    "Frank, P1, Px\tM\n",
    "v\t{16, 25, 36, 49, 64}\n",
    "{7, 10, 15, 20}\n",
    "\n",
    "P2\tM\n",
    "v\t{16, 26, 64}\n",
    "{7, 10, 15, 20}\n",
    "P3, P4\tM\n",
    "\n",
    "v\t{16, 25, 36, 49, 64}\n",
    "{7, 10, 15, 20}\n",
    "\n",
    "Zadoff-Chu\tM\n",
    "r\n",
    "f\t{16, 25, 36, 49, 64}\n",
    "{11, 13}\n",
    "{7, 10, 15, 20}\n",
    "\n",
    "Huffman\tM\n",
    "v\n",
    "S\t{16, 25, 36, 49, 64}\n",
    "{7, 10, 15, 20}\n",
    "{-63, -60, -56} dB\n",
    "\n",
    "T1, T2\tN\n",
    "PW\n",
    "PS\t{4, 5, 6}\n",
    "U(256, 1024) samples\n",
    "2\n",
    "\n",
    "T3, T4\tBW\n",
    "PW\n",
    "PS\tU(f/20, f/4)\n",
    "U(256, 1024) samples\n",
    "2\n",
    "\n",
    "FSK\tOrder\n",
    "v\n",
    "Δf\t{2, 4, 8}\n",
    "{1, 2, 5, 10, 15}\n",
    "v\n",
    "\n",
    "Costas\tM\n",
    "v\n",
    "Δf\t{3, 4, 5, 6};\n",
    "{1, 2, 5, 10, 15}\n",
    "v\n",
    "\n",
    "Noise\tσ\t1"
   ]
  },
  {
   "cell_type": "markdown",
   "metadata": {},
   "source": [
    "Used codespace in VS Code for commits and editing along with data storage."
   ]
  }
 ],
 "metadata": {
  "kernelspec": {
   "display_name": "Python 3",
   "language": "python",
   "name": "python3"
  },
  "language_info": {
   "codemirror_mode": {
    "name": "ipython",
    "version": 3
   },
   "file_extension": ".py",
   "mimetype": "text/x-python",
   "name": "python",
   "nbconvert_exporter": "python",
   "pygments_lexer": "ipython3",
   "version": "3.10.13"
  },
  "orig_nbformat": 4
 },
 "nbformat": 4,
 "nbformat_minor": 2
}
